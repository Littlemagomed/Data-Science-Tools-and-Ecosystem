{
 "cells": [
  {
   "cell_type": "markdown",
   "id": "709df437",
   "metadata": {},
   "source": [
    "# Data Science Tools and Ecosystem"
   ]
  },
  {
   "cell_type": "markdown",
   "id": "5e771d7b",
   "metadata": {},
   "source": [
    "In this notebook, Data Science Tools and Ecosystem are summarized."
   ]
  },
  {
   "cell_type": "markdown",
   "id": "50149221",
   "metadata": {},
   "source": [
    "Some of the popular languages that Data Scientists use are:\n",
    "1. Python\n",
    "2. R\n",
    "3. SQL\n",
    "4. Julia"
   ]
  },
  {
   "cell_type": "markdown",
   "id": "22946672",
   "metadata": {},
   "source": [
    "Some of the commonly used libraries used by Data Scientists include:\n",
    "1. numpy\n",
    "2. scipy\n",
    "3. matplotlib\n",
    "4. ggally\n",
    "5. ggplot\n",
    "6. stringr"
   ]
  },
  {
   "cell_type": "markdown",
   "id": "41cd1094",
   "metadata": {},
   "source": [
    "| Data Science Tools |\n",
    "|:---------:|\n",
    "jupyter notebook / jupyter lab\n",
    "Github\n",
    "IBM Watson Studio"
   ]
  },
  {
   "cell_type": "markdown",
   "id": "b3237a3d",
   "metadata": {},
   "source": [
    "### Below are a few examples of evaluating arithmetic expressions in Python"
   ]
  },
  {
   "cell_type": "code",
   "execution_count": 1,
   "id": "6c3d9600",
   "metadata": {},
   "outputs": [
    {
     "name": "stdout",
     "output_type": "stream",
     "text": [
      "17\n"
     ]
    }
   ],
   "source": [
    "print((3*4)+5)\n",
    "# This a simple arithmetic expression to mutiply then add integers"
   ]
  },
  {
   "cell_type": "code",
   "execution_count": 4,
   "id": "af9768ef",
   "metadata": {},
   "outputs": [
    {
     "name": "stdout",
     "output_type": "stream",
     "text": [
      "3 Hours and 20 Minutes\n"
     ]
    }
   ],
   "source": [
    "print(int(200/60),\"Hours and\",(200%60),\"Minutes\")\n",
    "# This will convert 200 minutes to hours by diving by 60"
   ]
  },
  {
   "cell_type": "markdown",
   "id": "2a26af5a",
   "metadata": {},
   "source": [
    "**Objectives:**\n",
    "- Popular language for Data Science\n",
    "- Popular libraries for Data Science\n",
    "- Other Data Science Tools \n",
    "- a few examples of codes in python"
   ]
  },
  {
   "cell_type": "markdown",
   "id": "221d4b01",
   "metadata": {},
   "source": [
    "## Auther\n",
    "Mohammad Kalteh"
   ]
  },
  {
   "cell_type": "code",
   "execution_count": null,
   "id": "736e80a2",
   "metadata": {},
   "outputs": [],
   "source": []
  }
 ],
 "metadata": {
  "kernelspec": {
   "display_name": "Python 3 (ipykernel)",
   "language": "python",
   "name": "python3"
  },
  "language_info": {
   "codemirror_mode": {
    "name": "ipython",
    "version": 3
   },
   "file_extension": ".py",
   "mimetype": "text/x-python",
   "name": "python",
   "nbconvert_exporter": "python",
   "pygments_lexer": "ipython3",
   "version": "3.11.2"
  }
 },
 "nbformat": 4,
 "nbformat_minor": 5
}
